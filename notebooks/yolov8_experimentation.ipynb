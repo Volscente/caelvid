{
 "cells": [
  {
   "cell_type": "markdown",
   "id": "c6cc7931-01de-4e98-bfcd-6bfde07dca70",
   "metadata": {},
   "source": [
    "# Introduction\n",
    "\n",
    "Experiment with the version 8 of YOLO architecture. The reference documentation can be found [here](https://docs.ultralytics.com/quickstart/)"
   ]
  },
  {
   "cell_type": "code",
   "execution_count": 6,
   "id": "d301d291-4b46-421d-96ce-049ecbf394a1",
   "metadata": {},
   "outputs": [],
   "source": [
    "# Import Standard Libraries\n",
    "from ultralytics import YOLO\n",
    "\n",
    "import cv2"
   ]
  },
  {
   "cell_type": "code",
   "execution_count": 3,
   "id": "19778d9d-3ea9-4c44-a30a-4cac76ea8a43",
   "metadata": {
    "tags": []
   },
   "outputs": [],
   "source": [
    "# Load the model\n",
    "model = YOLO(\"yolov8n.pt\")"
   ]
  },
  {
   "cell_type": "code",
   "execution_count": 16,
   "id": "767b31d6-d115-4234-a557-4c4641655ade",
   "metadata": {
    "tags": []
   },
   "outputs": [
    {
     "name": "stderr",
     "output_type": "stream",
     "text": [
      "\n",
      "Downloading https://live-pics.pystatic.com/uploaded/3215ac63-b61e-4541-bd46-d0e401db78a8.jpeg to 3215ac63-b61e-4541-bd46-d0e401db78a8.jpeg...\n"
     ]
    },
    {
     "data": {
      "application/vnd.jupyter.widget-view+json": {
       "model_id": "305894f188ab4b7ebd91f4e85b652fb4",
       "version_major": 2,
       "version_minor": 0
      },
      "text/plain": [
       "  0%|          | 0.00/3.11M [00:00<?, ?B/s]"
      ]
     },
     "metadata": {},
     "output_type": "display_data"
    },
    {
     "name": "stderr",
     "output_type": "stream",
     "text": [
      "image 1/1 /Users/s.porreca/Projects/caelvid/notebooks/3215ac63-b61e-4541-bd46-d0e401db78a8.jpeg: 480x640 1 car, 1 pizza, 100.7ms\n",
      "Speed: 0.6ms pre-process, 100.7ms inference, 0.8ms postprocess per image at shape (1, 3, 640, 640)\n"
     ]
    }
   ],
   "source": [
    "results = model.predict(source='https://live-pics.pystatic.com/uploaded/3215ac63-b61e-4541-bd46-d0e401db78a8.jpeg', save=False)"
   ]
  },
  {
   "cell_type": "code",
   "execution_count": 14,
   "id": "4c3c1479-a3b0-403a-b64b-3b742cc66cb6",
   "metadata": {
    "tags": []
   },
   "outputs": [],
   "source": [
    "results[0].probs"
   ]
  }
 ],
 "metadata": {
  "kernelspec": {
   "display_name": "Python 3 (ipykernel)",
   "language": "python",
   "name": "python3"
  },
  "language_info": {
   "codemirror_mode": {
    "name": "ipython",
    "version": 3
   },
   "file_extension": ".py",
   "mimetype": "text/x-python",
   "name": "python",
   "nbconvert_exporter": "python",
   "pygments_lexer": "ipython3",
   "version": "3.10.5"
  }
 },
 "nbformat": 4,
 "nbformat_minor": 5
}
