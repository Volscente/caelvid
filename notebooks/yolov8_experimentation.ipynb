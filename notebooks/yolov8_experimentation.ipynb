{
 "cells": [
  {
   "cell_type": "markdown",
   "id": "c6cc7931-01de-4e98-bfcd-6bfde07dca70",
   "metadata": {},
   "source": [
    "# Introduction\n",
    "\n",
    "Experiment with the version 8 of YOLO architecture. The reference documentation can be found [here](https://docs.ultralytics.com/quickstart/)"
   ]
  },
  {
   "cell_type": "code",
   "execution_count": 1,
   "id": "d301d291-4b46-421d-96ce-049ecbf394a1",
   "metadata": {},
   "outputs": [],
   "source": [
    "# Import Standard Libraries\n",
    "from ultralytics import YOLO"
   ]
  },
  {
   "cell_type": "code",
   "execution_count": 2,
   "id": "19778d9d-3ea9-4c44-a30a-4cac76ea8a43",
   "metadata": {
    "tags": []
   },
   "outputs": [
    {
     "name": "stderr",
     "output_type": "stream",
     "text": [
      "Downloading https://github.com/ultralytics/assets/releases/download/v0.0.0/yolov8n.pt to yolov8n.pt...\n"
     ]
    },
    {
     "data": {
      "application/vnd.jupyter.widget-view+json": {
       "model_id": "3fb08e82a9f3430aafc4d994792c0fd2",
       "version_major": 2,
       "version_minor": 0
      },
      "text/plain": [
       "  0%|          | 0.00/6.23M [00:00<?, ?B/s]"
      ]
     },
     "metadata": {},
     "output_type": "display_data"
    }
   ],
   "source": [
    "# Load the model\n",
    "model = YOLO(\"yolov8n.pt\")"
   ]
  },
  {
   "cell_type": "code",
   "execution_count": null,
   "id": "767b31d6-d115-4234-a557-4c4641655ade",
   "metadata": {},
   "outputs": [],
   "source": [
    "# Predict with the model\n",
    "results = model(\"https://ultralytics.com/images/bus.jpg\") "
   ]
  }
 ],
 "metadata": {
  "kernelspec": {
   "display_name": "Python 3 (ipykernel)",
   "language": "python",
   "name": "python3"
  },
  "language_info": {
   "codemirror_mode": {
    "name": "ipython",
    "version": 3
   },
   "file_extension": ".py",
   "mimetype": "text/x-python",
   "name": "python",
   "nbconvert_exporter": "python",
   "pygments_lexer": "ipython3",
   "version": "3.10.5"
  }
 },
 "nbformat": 4,
 "nbformat_minor": 5
}
