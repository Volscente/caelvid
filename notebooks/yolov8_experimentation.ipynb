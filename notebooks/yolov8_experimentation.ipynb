{
 "cells": [
  {
   "cell_type": "markdown",
   "id": "c6cc7931-01de-4e98-bfcd-6bfde07dca70",
   "metadata": {},
   "source": [
    "# Introduction\n",
    "\n",
    "Experiment with the version 8 of YOLO architecture. The reference documentation can be found [here](https://docs.ultralytics.com/quickstart/)"
   ]
  },
  {
   "cell_type": "code",
   "execution_count": null,
   "id": "d301d291-4b46-421d-96ce-049ecbf394a1",
   "metadata": {},
   "outputs": [],
   "source": [
    "# Import Standard Libraries\n"
   ]
  }
 ],
 "metadata": {
  "kernelspec": {
   "display_name": "Python 3 (ipykernel)",
   "language": "python",
   "name": "python3"
  },
  "language_info": {
   "codemirror_mode": {
    "name": "ipython",
    "version": 3
   },
   "file_extension": ".py",
   "mimetype": "text/x-python",
   "name": "python",
   "nbconvert_exporter": "python",
   "pygments_lexer": "ipython3",
   "version": "3.10.5"
  }
 },
 "nbformat": 4,
 "nbformat_minor": 5
}
